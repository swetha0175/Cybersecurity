{
 "cells": [
  {
   "cell_type": "markdown",
   "id": "988a7375",
   "metadata": {},
   "source": [
    "Installed Cryptography Library"
   ]
  },
  {
   "cell_type": "code",
   "execution_count": 1,
   "id": "679605f6",
   "metadata": {},
   "outputs": [
    {
     "name": "stdout",
     "output_type": "stream",
     "text": [
      "Requirement already satisfied: cryptography in c:\\users\\sweth\\anaconda3\\lib\\site-packages (37.0.1)\n",
      "Requirement already satisfied: cffi>=1.12 in c:\\users\\sweth\\anaconda3\\lib\\site-packages (from cryptography) (1.15.1)\n",
      "Requirement already satisfied: pycparser in c:\\users\\sweth\\anaconda3\\lib\\site-packages (from cffi>=1.12->cryptography) (2.21)\n",
      "Note: you may need to restart the kernel to use updated packages.\n"
     ]
    }
   ],
   "source": [
    "pip install cryptography"
   ]
  },
  {
   "cell_type": "code",
   "execution_count": 2,
   "id": "db9f043a",
   "metadata": {},
   "outputs": [],
   "source": [
    "from cryptography.fernet import Fernet"
   ]
  },
  {
   "cell_type": "code",
   "execution_count": 3,
   "id": "060cc2f7",
   "metadata": {},
   "outputs": [],
   "source": [
    "# generate key \n",
    "def generate_key():\n",
    "    key = Fernet.generate_key()\n",
    "    with open (\"secret.key\",\"wb\") as key_file:\n",
    "        key_file.write(key)\n",
    "        \n",
    "def load_key():\n",
    "    return open(\"secret.key\",\"rb\").read()        "
   ]
  },
  {
   "cell_type": "code",
   "execution_count": 6,
   "id": "70368f25",
   "metadata": {},
   "outputs": [],
   "source": [
    "#encryption plain text\n",
    "def encrypt_message(message):\n",
    "    key = load_key()\n",
    "    fernet = Fernet(key)\n",
    "    encrypted_message = fernet.encrypt(message.encode())\n",
    "    return encrypted_message\n",
    "\n",
    "#decryption cipher text\n",
    "def decrypt_message(encrypt_message):\n",
    "    key = load_key()\n",
    "    fernet = Fernet(key)\n",
    "    decrypted_message = fernet.decrypt(encrypt_message).decode()\n",
    "    return decrypted_message"
   ]
  },
  {
   "cell_type": "code",
   "execution_count": 9,
   "id": "cb47bba3",
   "metadata": {},
   "outputs": [
    {
     "name": "stdout",
     "output_type": "stream",
     "text": [
      "Enter the message you world like to encrypt: Meet me at ABC at 9am\n",
      "Encrypted Message: b'gAAAAABmboQHWLVxZZC_8guWL994tlULUoi1T9ovzpMB8N8ZXMz9nq3IlxSgmpm-wxwLUOBmoMBEfHOcQq4TIJc07EtAZgERkWqRw_-NLpaowlAd9QWiz7U='\n",
      "Decrypted Message: Meet me at ABC at 9am\n"
     ]
    }
   ],
   "source": [
    "#testng the encryption and decryption system\n",
    "if __name__ == \"__main__\":\n",
    "    generate_key()\n",
    "    \n",
    "    message = input(\"Enter the message you world like to encrypt: \")\n",
    "    \n",
    "    encrypted_message = encrypt_message(message)\n",
    "    print(f\"Encrypted Message: {encrypted_message}\")\n",
    "    \n",
    "    decrypted_message = decrypt_message(encrypted_message)\n",
    "    print(f\"Decrypted Message: {decrypted_message}\")\n",
    "          "
   ]
  },
  {
   "cell_type": "code",
   "execution_count": null,
   "id": "92ad9fe4",
   "metadata": {},
   "outputs": [],
   "source": []
  }
 ],
 "metadata": {
  "kernelspec": {
   "display_name": "Python 3 (ipykernel)",
   "language": "python",
   "name": "python3"
  },
  "language_info": {
   "codemirror_mode": {
    "name": "ipython",
    "version": 3
   },
   "file_extension": ".py",
   "mimetype": "text/x-python",
   "name": "python",
   "nbconvert_exporter": "python",
   "pygments_lexer": "ipython3",
   "version": "3.9.13"
  }
 },
 "nbformat": 4,
 "nbformat_minor": 5
}
